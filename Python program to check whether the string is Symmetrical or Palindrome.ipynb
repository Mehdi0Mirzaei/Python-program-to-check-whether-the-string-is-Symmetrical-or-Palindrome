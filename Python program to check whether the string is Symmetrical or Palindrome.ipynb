{
 "cells": [
  {
   "cell_type": "code",
   "execution_count": 16,
   "id": "a74435d0",
   "metadata": {},
   "outputs": [
    {
     "name": "stdout",
     "output_type": "stream",
     "text": [
      "121 The string is palindrome\n"
     ]
    }
   ],
   "source": [
    "def palindrome(string):\n",
    "    s=string[::-1]\n",
    "    if s == string:\n",
    "        print(string,\"The string is palindrome\")\n",
    "    else:\n",
    "        print(string,\"The string isn't palindrome\")\n",
    "palindrome('121')"
   ]
  },
  {
   "cell_type": "code",
   "execution_count": 23,
   "id": "7138a211",
   "metadata": {},
   "outputs": [
    {
     "name": "stdout",
     "output_type": "stream",
     "text": [
      "omoomo string is symmetrical\n"
     ]
    }
   ],
   "source": [
    "string = 'omoomo'\n",
    "half = int(len(string) / 2)\n",
    " \n",
    "r_string= string[:half]\n",
    "l_string = string[half:]\n",
    " \n",
    " # symmetric\n",
    "if r_string == l_string:\n",
    "    print(string, 'string is symmetrical')\n",
    "else:\n",
    "    print(string, 'string is not symmetrical')\n",
    " "
   ]
  },
  {
   "cell_type": "code",
   "execution_count": 24,
   "id": "862927e6",
   "metadata": {},
   "outputs": [
    {
     "name": "stdout",
     "output_type": "stream",
     "text": [
      "The entered string is symmetrical\n",
      "The entered string is palindrome\n"
     ]
    }
   ],
   "source": [
    "import re\n",
    " \n",
    "input_str = \"amaama\"\n",
    "reversed_str = input_str[::-1]\n",
    " \n",
    "if input_str == reversed_str:\n",
    "    print(\"The entered string is symmetrical\")\n",
    "else:\n",
    "    print(\"The entered string is not symmetrical\")\n",
    "if re.match(\"^(\\w+)\\Z\", input_str) and input_str == input_str[::-1]:\n",
    "    print(\"The entered string is palindrome\")\n",
    "else:\n",
    "    print(\"The entered string is not palindrome\")"
   ]
  },
  {
   "cell_type": "code",
   "execution_count": 25,
   "id": "29101e5c",
   "metadata": {},
   "outputs": [
    {
     "name": "stdout",
     "output_type": "stream",
     "text": [
      "The entered string is palindrome\n",
      "The entered string is symmetrical\n"
     ]
    }
   ],
   "source": [
    "# Function to check whether the\n",
    "# string is palindrome or not\n",
    "def palindrome(a):\n",
    "  # finding the mid, start\n",
    "    # and last index of the string\n",
    "    mid = (len(a)-1)//2     #you can remove the -1 or you add <= sign in line 21 \n",
    "    start = 0                #so that you can compare the middle elements also.\n",
    "    last = len(a)-1\n",
    "    flag = 0\n",
    " # A loop till the mid of the\n",
    "    # string\n",
    "    while(start <= mid):\n",
    "  # comparing letters from right\n",
    "        # from the letters from left\n",
    "        if a[start]== a[last]:\n",
    "             \n",
    "            start += 1\n",
    "            last -= 1\n",
    "             \n",
    "        else:\n",
    "            flag = 1\n",
    "            break;\n",
    "             \n",
    "    # Checking the flag variable to\n",
    "    # check if the string is palindrome\n",
    "    # or not\n",
    "    if flag == 0:\n",
    "        print(\"The entered string is palindrome\")\n",
    "    else:\n",
    "        print(\"The entered string is not palindrome\")\n",
    "         \n",
    "# Function to check whether the\n",
    "# string is symmetrical or not       \n",
    "def symmetry(a):\n",
    "     \n",
    "    n = len(a)\n",
    "    flag = 0\n",
    "     \n",
    "    # Check if the string's length\n",
    "    # is odd or even\n",
    "    if n%2:\n",
    "        mid = n//2 +1\n",
    "    else:\n",
    "        mid = n//2\n",
    "         \n",
    "    start1 = 0\n",
    "    start2 = mid\n",
    "     \n",
    "    while start1 < mid and start2 < n:\n",
    "         \n",
    "        if a[start1]== a[start2]:\n",
    "            start1 = start1 + 1\n",
    "            start2 = start2 + 1\n",
    "        else:\n",
    "            flag = 1\n",
    "            break\n",
    "    # Checking the flag variable to\n",
    "    # check if the string is symmetrical\n",
    "    # or not\n",
    "    if flag == 0:\n",
    "        print(\"The entered string is symmetrical\")\n",
    "    else:\n",
    "        print(\"The entered string is not symmetrical\")\n",
    "         \n",
    "# Driver code\n",
    "string = 'omoomo'\n",
    "palindrome(string)\n",
    "symmetry(string)"
   ]
  },
  {
   "cell_type": "code",
   "execution_count": null,
   "id": "69f4fbd7",
   "metadata": {},
   "outputs": [],
   "source": []
  }
 ],
 "metadata": {
  "kernelspec": {
   "display_name": "Python 3 (ipykernel)",
   "language": "python",
   "name": "python3"
  },
  "language_info": {
   "codemirror_mode": {
    "name": "ipython",
    "version": 3
   },
   "file_extension": ".py",
   "mimetype": "text/x-python",
   "name": "python",
   "nbconvert_exporter": "python",
   "pygments_lexer": "ipython3",
   "version": "3.9.13"
  }
 },
 "nbformat": 4,
 "nbformat_minor": 5
}
